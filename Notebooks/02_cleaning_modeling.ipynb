{
 "cells": [
  {
   "cell_type": "code",
   "execution_count": null,
   "id": "3d10d238",
   "metadata": {},
   "outputs": [],
   "source": [
    "import pandas as pd\n",
    "import sqlite3\n",
    "\n",
    "# Load cleaned dataset\n",
    "df = pd.read_csv(\"../Data/processed/clean_data.csv\")\n",
    "\n",
    "# Connect to SQLite database\n",
    "conn = sqlite3.connect('../Data/ecommerce.db')\n",
    "\n",
    "# Load into SQL table\n",
    "df.to_sql('orders', conn, if_exists='replace', index=False)\n",
    "conn.close()\n",
    "\n",
    "#CLEAN COMMENTS\n"
   ]
  },
  {
   "cell_type": "code",
   "execution_count": null,
   "id": "574643b3",
   "metadata": {},
   "outputs": [],
   "source": [
    "# convert tables"
   ]
  }
 ],
 "metadata": {
  "kernelspec": {
   "display_name": "Python 3",
   "language": "python",
   "name": "python3"
  },
  "language_info": {
   "codemirror_mode": {
    "name": "ipython",
    "version": 3
   },
   "file_extension": ".py",
   "mimetype": "text/x-python",
   "name": "python",
   "nbconvert_exporter": "python",
   "pygments_lexer": "ipython3",
   "version": "3.11.9"
  }
 },
 "nbformat": 4,
 "nbformat_minor": 5
}
