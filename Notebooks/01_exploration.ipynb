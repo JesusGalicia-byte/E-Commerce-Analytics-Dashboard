{
 "cells": [
  {
   "cell_type": "code",
   "execution_count": 1,
   "id": "e63748c8",
   "metadata": {},
   "outputs": [],
   "source": [
    "import pandas as pd\n",
    "import os"
   ]
  },
  {
   "cell_type": "code",
   "execution_count": 2,
   "id": "e6160cab",
   "metadata": {},
   "outputs": [
    {
     "name": "stdout",
     "output_type": "stream",
     "text": [
      "<class 'pandas.core.frame.DataFrame'>\n",
      "RangeIndex: 5000 entries, 0 to 4999\n",
      "Data columns (total 10 columns):\n",
      " #   Column             Non-Null Count  Dtype  \n",
      "---  ------             --------------  -----  \n",
      " 0   order_id           5000 non-null   int64  \n",
      " 1   order_date         5000 non-null   object \n",
      " 2   customer_id        5000 non-null   int64  \n",
      " 3   product_id         4857 non-null   object \n",
      " 4   category           4815 non-null   object \n",
      " 5   quantity           4792 non-null   float64\n",
      " 6   price_per_unit     4700 non-null   float64\n",
      " 7   payment_method     4705 non-null   object \n",
      " 8   total_order_value  5000 non-null   float64\n",
      " 9   order_status       5000 non-null   object \n",
      "dtypes: float64(3), int64(2), object(5)\n",
      "memory usage: 390.8+ KB\n"
     ]
    }
   ],
   "source": [
    "# read our raw data and convert to correct date\n",
    "df = pd.read_csv(\"../Data/raw/ecommerce_data.csv\")\n",
    "df.info()\n",
    "df.describe()\n",
    "\n",
    "df['order_date'] = pd.to_datetime(df['order_date'])"
   ]
  },
  {
   "cell_type": "code",
   "execution_count": 3,
   "id": "7bd3c3ad",
   "metadata": {},
   "outputs": [
    {
     "data": {
      "text/html": [
       "<div>\n",
       "<style scoped>\n",
       "    .dataframe tbody tr th:only-of-type {\n",
       "        vertical-align: middle;\n",
       "    }\n",
       "\n",
       "    .dataframe tbody tr th {\n",
       "        vertical-align: top;\n",
       "    }\n",
       "\n",
       "    .dataframe thead th {\n",
       "        text-align: right;\n",
       "    }\n",
       "</style>\n",
       "<table border=\"1\" class=\"dataframe\">\n",
       "  <thead>\n",
       "    <tr style=\"text-align: right;\">\n",
       "      <th></th>\n",
       "      <th>order_id</th>\n",
       "      <th>order_date</th>\n",
       "      <th>customer_id</th>\n",
       "      <th>product_id</th>\n",
       "      <th>category</th>\n",
       "      <th>quantity</th>\n",
       "      <th>price_per_unit</th>\n",
       "      <th>payment_method</th>\n",
       "      <th>total_order_value</th>\n",
       "      <th>order_status</th>\n",
       "    </tr>\n",
       "  </thead>\n",
       "  <tbody>\n",
       "    <tr>\n",
       "      <th>0</th>\n",
       "      <td>1</td>\n",
       "      <td>2025-08-01</td>\n",
       "      <td>1</td>\n",
       "      <td>27119-DZ-899</td>\n",
       "      <td>Gaming</td>\n",
       "      <td>266.0</td>\n",
       "      <td>85.0</td>\n",
       "      <td>NaN</td>\n",
       "      <td>3.67</td>\n",
       "      <td>Completed</td>\n",
       "    </tr>\n",
       "    <tr>\n",
       "      <th>1</th>\n",
       "      <td>2</td>\n",
       "      <td>2025-02-07</td>\n",
       "      <td>2</td>\n",
       "      <td>26146-NL-790</td>\n",
       "      <td>Food - Frozen Meals</td>\n",
       "      <td>413.0</td>\n",
       "      <td>277.0</td>\n",
       "      <td>PayPal</td>\n",
       "      <td>628.27</td>\n",
       "      <td>Completed</td>\n",
       "    </tr>\n",
       "    <tr>\n",
       "      <th>2</th>\n",
       "      <td>3</td>\n",
       "      <td>2024-12-02</td>\n",
       "      <td>3</td>\n",
       "      <td>37749-LM-063</td>\n",
       "      <td>Outdoor</td>\n",
       "      <td>62.0</td>\n",
       "      <td>198.0</td>\n",
       "      <td>credit card</td>\n",
       "      <td>744.04</td>\n",
       "      <td>Completed</td>\n",
       "    </tr>\n",
       "    <tr>\n",
       "      <th>3</th>\n",
       "      <td>4</td>\n",
       "      <td>2025-07-12</td>\n",
       "      <td>4</td>\n",
       "      <td>40389-ZB-335</td>\n",
       "      <td>Food - Soups</td>\n",
       "      <td>663.0</td>\n",
       "      <td>423.0</td>\n",
       "      <td>Apple Pay</td>\n",
       "      <td>351.96</td>\n",
       "      <td>Completed</td>\n",
       "    </tr>\n",
       "    <tr>\n",
       "      <th>4</th>\n",
       "      <td>5</td>\n",
       "      <td>2024-11-27</td>\n",
       "      <td>5</td>\n",
       "      <td>08514-MQ-037</td>\n",
       "      <td>Pets</td>\n",
       "      <td>104.0</td>\n",
       "      <td>244.0</td>\n",
       "      <td>debit card</td>\n",
       "      <td>127.05</td>\n",
       "      <td>Completed</td>\n",
       "    </tr>\n",
       "  </tbody>\n",
       "</table>\n",
       "</div>"
      ],
      "text/plain": [
       "   order_id order_date  customer_id    product_id             category  \\\n",
       "0         1 2025-08-01            1  27119-DZ-899               Gaming   \n",
       "1         2 2025-02-07            2  26146-NL-790  Food - Frozen Meals   \n",
       "2         3 2024-12-02            3  37749-LM-063              Outdoor   \n",
       "3         4 2025-07-12            4  40389-ZB-335         Food - Soups   \n",
       "4         5 2024-11-27            5  08514-MQ-037                 Pets   \n",
       "\n",
       "   quantity  price_per_unit payment_method  total_order_value order_status  \n",
       "0     266.0            85.0            NaN               3.67    Completed  \n",
       "1     413.0           277.0         PayPal             628.27    Completed  \n",
       "2      62.0           198.0    credit card             744.04    Completed  \n",
       "3     663.0           423.0      Apple Pay             351.96    Completed  \n",
       "4     104.0           244.0     debit card             127.05    Completed  "
      ]
     },
     "execution_count": 3,
     "metadata": {},
     "output_type": "execute_result"
    }
   ],
   "source": [
    "df.head()"
   ]
  },
  {
   "cell_type": "code",
   "execution_count": 4,
   "id": "e4836caf",
   "metadata": {},
   "outputs": [
    {
     "data": {
      "text/plain": [
       "order_id             3953\n",
       "order_date           3953\n",
       "customer_id          3953\n",
       "product_id           3953\n",
       "category             3953\n",
       "quantity             3953\n",
       "price_per_unit       3953\n",
       "payment_method       3953\n",
       "total_order_value    3953\n",
       "order_status         3953\n",
       "dtype: int64"
      ]
     },
     "execution_count": 4,
     "metadata": {},
     "output_type": "execute_result"
    }
   ],
   "source": [
    "# drop all rows with missing values to make analysis more consistent\n",
    "df = df.dropna()\n",
    "df = df.drop_duplicates()\n",
    "# fixed column values by adding correct formular for another row\n",
    "df['total_order_value'] = df['quantity'] * df['price_per_unit']\n",
    "\n",
    "# all columns have same number of rows now\n",
    "df.head()\n",
    "df.count()"
   ]
  },
  {
   "cell_type": "code",
   "execution_count": null,
   "id": "70ee4f84",
   "metadata": {},
   "outputs": [],
   "source": [
    "df.head(15)\n",
    "\n",
    "# export cleaned data to a new csv we will use for our analysis\n",
    "folder_path = '../Data/processed'  \n",
    "file_name = 'clean_data.csv'\n",
    "\n",
    "# join the path with the file name\n",
    "path = os.path.join(folder_path, file_name)\n",
    "# converts to csv and saves it to folder 'processed'\n",
    "df.to_csv(path, index=False) "
   ]
  }
 ],
 "metadata": {
  "kernelspec": {
   "display_name": "Python 3",
   "language": "python",
   "name": "python3"
  },
  "language_info": {
   "codemirror_mode": {
    "name": "ipython",
    "version": 3
   },
   "file_extension": ".py",
   "mimetype": "text/x-python",
   "name": "python",
   "nbconvert_exporter": "python",
   "pygments_lexer": "ipython3",
   "version": "3.11.9"
  }
 },
 "nbformat": 4,
 "nbformat_minor": 5
}
