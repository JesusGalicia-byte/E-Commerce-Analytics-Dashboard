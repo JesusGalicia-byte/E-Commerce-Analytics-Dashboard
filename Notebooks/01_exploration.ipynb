{
 "cells": [
  {
   "cell_type": "code",
   "execution_count": null,
   "id": "e63748c8",
   "metadata": {},
   "outputs": [],
   "source": [
    "import pandas as pd\n",
    "import os"
   ]
  },
  {
   "cell_type": "code",
   "execution_count": null,
   "id": "e6160cab",
   "metadata": {},
   "outputs": [],
   "source": [
    "# explore the raw data \n",
    "# explore and plan out\n",
    "# we have multiple csvs and we want to either join them or prep them accordingly\n",
    "\n",
    "df = pd.read_csv(\"\")\n",
    "df.info()\n",
    "df.describe()"
   ]
  },
  {
   "cell_type": "code",
   "execution_count": null,
   "id": "e4836caf",
   "metadata": {},
   "outputs": [],
   "source": [
    "# Data cleaning\n",
    "\n",
    "# drop all rows with missing values to make analysis more consistent\n",
    "df = df.dropna()\n",
    "df = df.drop_duplicates()"
   ]
  },
  {
   "cell_type": "code",
   "execution_count": null,
   "id": "70ee4f84",
   "metadata": {},
   "outputs": [],
   "source": [
    "# export cleaned data to a new csv we will use for our analysis\n",
    "folder_path = '../Data/processed'  \n",
    "file_name = 'clean_data.csv'\n",
    "\n",
    "# join the path with the file name\n",
    "path = os.path.join(folder_path, file_name)\n",
    "# converts to csv and saves it to folder 'processed'\n",
    "df.to_csv(path, index=False) "
   ]
  },
  {
   "cell_type": "code",
   "execution_count": null,
   "id": "88134e1c",
   "metadata": {},
   "outputs": [],
   "source": [
    "# preview a small portion of the clean data\n",
    "df.head(15)"
   ]
  }
 ],
 "metadata": {
  "kernelspec": {
   "display_name": "Python 3",
   "language": "python",
   "name": "python3"
  },
  "language_info": {
   "codemirror_mode": {
    "name": "ipython",
    "version": 3
   },
   "file_extension": ".py",
   "mimetype": "text/x-python",
   "name": "python",
   "nbconvert_exporter": "python",
   "pygments_lexer": "ipython3",
   "version": "3.11.9"
  }
 },
 "nbformat": 4,
 "nbformat_minor": 5
}
